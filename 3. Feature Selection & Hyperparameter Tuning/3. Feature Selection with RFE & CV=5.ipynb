{
 "cells": [
  {
   "cell_type": "code",
   "execution_count": 33,
   "metadata": {},
   "outputs": [],
   "source": [
    "from sklearn.linear_model import RidgeCV\n",
    "from tqdm import tqdm\n",
    "from sklearn.linear_model import Lasso, Ridge\n",
    "from sklearn.ensemble import RandomForestRegressor\n",
    "from sklearn.pipeline import Pipeline\n",
    "from sklearn.preprocessing import StandardScaler\n",
    "from sklearn.model_selection import cross_val_score\n",
    "import matplotlib.ticker as ticker\n",
    "import warnings\n",
    "from sklearn.exceptions import DataConversionWarning, ConvergenceWarning\n",
    "\n",
    "Ignore ConvergenceWarning\n",
    "with warnings.catch_warnings():\n",
    "warnings.filterwarnings(\"ignore\", category=ConvergenceWarning)\n",
    "\n",
    "warnings.filterwarnings(\"ignore\", category=RuntimeWarning)\n",
    "warnings.filterwarnings(\"ignore\", category=DataConversionWarning)\n",
    "\n",
    "from sklearn.model_selection import KFold\n",
    "from sklearn.pipeline import Pipeline\n",
    "from sklearn.feature_selection import SelectKBest, f_regression\n",
    "from sklearn.tree import DecisionTreeRegressor\n",
    "from sklearn.metrics import make_scorer, mean_absolute_error\n",
    "import numpy as np\n",
    "import pandas as pd"
   ]
  },
  {
   "cell_type": "code",
   "execution_count": 44,
   "metadata": {},
   "outputs": [
    {
     "name": "stderr",
     "output_type": "stream",
     "text": [
      "100%|████████████████████████████████████████████████████████████████████████████| 314/314 [21:32:16<00:00, 246.93s/it]"
     ]
    },
    {
     "name": "stdout",
     "output_type": "stream",
     "text": [
      "Optimal number of features: 10\n"
     ]
    },
    {
     "name": "stderr",
     "output_type": "stream",
     "text": [
      "\n"
     ]
    }
   ],
   "source": [
    "#Took about a day to run\n",
    "#Recursive feature elimination: Use a machine learning algorithm that supports feature ranking, \n",
    "#such as linear regression or support vector machines, and recursively remove the least important \n",
    "#feature until the desired number of features is reached.\n",
    "\n",
    "#The resulting subset of features is \n",
    "#considered the optimal set of features that contribute the most to the performance of the model.\n",
    "\n",
    "#By selecting only the most important features, RFE can also simplify the model and \n",
    "#make it easier to understand and explain to others.\n",
    "from sklearn.feature_selection import RFECV\n",
    "from sklearn.tree import DecisionTreeRegressor\n",
    "from tqdm import tqdm\n",
    "import pandas as pd\n",
    "\n",
    "# read the data from CSV\n",
    "imputed_data = pd.read_csv(\"imputed_data.csv\")\n",
    "\n",
    "# separate the independent variables (features) from the dependent variable (target)\n",
    "X = imputed_data.drop('SalePrice', axis=1)\n",
    "y = imputed_data['SalePrice']\n",
    "\n",
    "# create an instance of DecisionTreeRegressor\n",
    "estimator = DecisionTreeRegressor()\n",
    "\n",
    "# create an instance of RFECV and pass in the estimator and number of cross-validation folds\n",
    "selector = RFECV(estimator, cv=5)\n",
    "\n",
    "# fit the selector to the data with a progress bar\n",
    "for i in tqdm(range(1, X.shape[1]+1)):\n",
    "    selector.n_features_ = i\n",
    "    selector.fit(X, y)\n",
    "\n",
    "# print the optimal number of features\n",
    "print(\"Optimal number of features: {}\".format(selector.n_features_))"
   ]
  },
  {
   "cell_type": "code",
   "execution_count": 46,
   "metadata": {},
   "outputs": [
    {
     "name": "stdout",
     "output_type": "stream",
     "text": [
      "Selected features: ['Unnamed: 0', 'GrLivArea', 'LotArea', 'OverallQual', 'YearBuilt', 'BsmtFinSF1', 'TotalBsmtSF', '1stFlrSF', 'Fireplaces', 'GarageArea']\n"
     ]
    }
   ],
   "source": [
    "# get the boolean array of selected features\n",
    "selected_features = selector.support_\n",
    "\n",
    "# filter the original feature set to get the names of the selected features\n",
    "selected_feature_names = X.columns[selected_features]\n",
    "\n",
    "# print the names of the selected features\n",
    "print(\"Selected features: {}\".format(selected_feature_names.tolist()))"
   ]
  }
 ],
 "metadata": {
  "kernelspec": {
   "display_name": "Python 3",
   "language": "python",
   "name": "python3"
  },
  "language_info": {
   "codemirror_mode": {
    "name": "ipython",
    "version": 3
   },
   "file_extension": ".py",
   "mimetype": "text/x-python",
   "name": "python",
   "nbconvert_exporter": "python",
   "pygments_lexer": "ipython3",
   "version": "3.8.3"
  }
 },
 "nbformat": 4,
 "nbformat_minor": 4
}
