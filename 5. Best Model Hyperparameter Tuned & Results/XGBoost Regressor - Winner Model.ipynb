{
 "cells": [
  {
   "cell_type": "markdown",
   "id": "80f54412",
   "metadata": {},
   "source": [
    "Train the winner model. \n",
    "\n",
    "Use the XGBRegressor algorithm to train a regression model on the training data. XGBoost is a popular gradient boosting algorithm that can handle regression tasks effectively. \n",
    "\n",
    "Set hyperparameters, such as the learning rate, number of estimators, and maximum depth, to optimize the model's performance."
   ]
  },
  {
   "cell_type": "code",
   "execution_count": 1,
   "id": "934edc59",
   "metadata": {},
   "outputs": [],
   "source": [
    "import pandas as pd\n",
    "import numpy as np\n",
    "from sklearn.model_selection import train_test_split, GridSearchCV, KFold\n",
    "from xgboost import XGBRegressor\n",
    "from sklearn.metrics import mean_absolute_error, r2_score\n",
    "\n",
    "imputed_data = pd.read_csv(\"imputed_data_handle_multicollinearity.csv\")\n",
    "\n",
    "ames = pd.read_csv(\"Ames_HousePrice.csv\")\n",
    "\n",
    "# Prepare the data\n",
    "X = imputed_data[['OverallQual', 'GrLivArea', 'TotalBsmtSF', '1stFlrSF', 'GarageArea',    \n",
    "        'YearBuilt', 'YearRemodAdd', 'BsmtFinSF1', 'BsmtUnfSF', 'Fireplaces']]\n",
    "\n",
    "X_neighborhood=ames[['Neighborhood']]\n",
    "\n",
    "y = imputed_data['SalePrice']"
   ]
  },
  {
   "cell_type": "code",
   "execution_count": 2,
   "id": "6b189172",
   "metadata": {},
   "outputs": [
    {
     "name": "stdout",
     "output_type": "stream",
     "text": [
      "Best Hyperparameters: {'learning_rate': 0.1, 'max_depth': 5, 'n_estimators': 300}\n",
      "Best Mean MAE: 4861.77269410126\n"
     ]
    }
   ],
   "source": [
    "# Create an instance of XGBRegressor\n",
    "xgb = XGBRegressor()\n",
    "\n",
    "# Define the number of folds for cross-validation\n",
    "num_folds = 5\n",
    "\n",
    "# Define the cross-validation strategy\n",
    "cv = KFold(n_splits=num_folds, shuffle=True)\n",
    "\n",
    "# Define the hyperparameter grid\n",
    "param_grid = {\n",
    "    'n_estimators': [100, 200, 300],\n",
    "    'learning_rate': [0.1, 0.01, 0.001],\n",
    "    'max_depth': [3, 4, 5]\n",
    "}\n",
    "\n",
    "# Perform grid search\n",
    "grid_search = GridSearchCV(estimator=xgb, param_grid=param_grid, cv=cv, scoring='neg_mean_absolute_error')\n",
    "grid_search.fit(X, y)\n",
    "\n",
    "# Print the best hyperparameters and the corresponding mean score\n",
    "print(\"Best Hyperparameters:\", grid_search.best_params_)\n",
    "print(\"Best Mean MAE:\", -grid_search.best_score_)\n",
    "\n",
    "# Split the data into train and test sets\n",
    "X_train, X_test, y_train, y_test = train_test_split(X, y, test_size=0.3)"
   ]
  },
  {
   "cell_type": "code",
   "execution_count": 3,
   "id": "b4c805cd",
   "metadata": {},
   "outputs": [
    {
     "data": {
      "text/html": [
       "<div>\n",
       "<style scoped>\n",
       "    .dataframe tbody tr th:only-of-type {\n",
       "        vertical-align: middle;\n",
       "    }\n",
       "\n",
       "    .dataframe tbody tr th {\n",
       "        vertical-align: top;\n",
       "    }\n",
       "\n",
       "    .dataframe thead th {\n",
       "        text-align: right;\n",
       "    }\n",
       "</style>\n",
       "<table border=\"1\" class=\"dataframe\">\n",
       "  <thead>\n",
       "    <tr style=\"text-align: right;\">\n",
       "      <th></th>\n",
       "      <th>Neighborhood</th>\n",
       "    </tr>\n",
       "  </thead>\n",
       "  <tbody>\n",
       "    <tr>\n",
       "      <th>0</th>\n",
       "      <td>SWISU</td>\n",
       "    </tr>\n",
       "    <tr>\n",
       "      <th>1</th>\n",
       "      <td>Edwards</td>\n",
       "    </tr>\n",
       "    <tr>\n",
       "      <th>2</th>\n",
       "      <td>IDOTRR</td>\n",
       "    </tr>\n",
       "    <tr>\n",
       "      <th>3</th>\n",
       "      <td>OldTown</td>\n",
       "    </tr>\n",
       "    <tr>\n",
       "      <th>4</th>\n",
       "      <td>NWAmes</td>\n",
       "    </tr>\n",
       "    <tr>\n",
       "      <th>...</th>\n",
       "      <td>...</td>\n",
       "    </tr>\n",
       "    <tr>\n",
       "      <th>2575</th>\n",
       "      <td>BrkSide</td>\n",
       "    </tr>\n",
       "    <tr>\n",
       "      <th>2576</th>\n",
       "      <td>Edwards</td>\n",
       "    </tr>\n",
       "    <tr>\n",
       "      <th>2577</th>\n",
       "      <td>Crawfor</td>\n",
       "    </tr>\n",
       "    <tr>\n",
       "      <th>2578</th>\n",
       "      <td>CollgCr</td>\n",
       "    </tr>\n",
       "    <tr>\n",
       "      <th>2579</th>\n",
       "      <td>SawyerW</td>\n",
       "    </tr>\n",
       "  </tbody>\n",
       "</table>\n",
       "<p>2580 rows × 1 columns</p>\n",
       "</div>"
      ],
      "text/plain": [
       "     Neighborhood\n",
       "0           SWISU\n",
       "1         Edwards\n",
       "2          IDOTRR\n",
       "3         OldTown\n",
       "4          NWAmes\n",
       "...           ...\n",
       "2575      BrkSide\n",
       "2576      Edwards\n",
       "2577      Crawfor\n",
       "2578      CollgCr\n",
       "2579      SawyerW\n",
       "\n",
       "[2580 rows x 1 columns]"
      ]
     },
     "execution_count": 3,
     "metadata": {},
     "output_type": "execute_result"
    }
   ],
   "source": [
    "X_neighborhood"
   ]
  },
  {
   "cell_type": "code",
   "execution_count": 4,
   "id": "9ad8a571",
   "metadata": {},
   "outputs": [
    {
     "name": "stdout",
     "output_type": "stream",
     "text": [
      "R^2 score: 0.9705697060871487\n",
      "\n"
     ]
    }
   ],
   "source": [
    "# Fit the model on the training data using the best hyperparameters\n",
    "xgb_best = XGBRegressor(**grid_search.best_params_)\n",
    "xgb_best.fit(X_train, y_train)\n",
    "\n",
    "# Make predictions on the test set\n",
    "y_pred_test = xgb_best.predict(X_test)\n",
    "\n",
    "# Calculate R^2 score\n",
    "r2 = r2_score(y_test, y_pred_test)\n",
    "\n",
    "print(\"R^2 score:\", r2)\n",
    "print(\"\")"
   ]
  },
  {
   "cell_type": "code",
   "execution_count": 5,
   "id": "3955c251",
   "metadata": {
    "scrolled": true
   },
   "outputs": [],
   "source": [
    "# Calculate residuals\n",
    "residuals = y_pred_test - y_test\n",
    "\n",
    "# Create a DataFrame with residuals, actual sale prices, predicted sale prices, and neighborhoods\n",
    "residuals_df = pd.DataFrame({\n",
    "    'Actual Sale Price': y_test,\n",
    "    'Predicted Sale Price': y_pred_test,\n",
    "    'Residuals': residuals,\n",
    "    'OverallQual': X_test['OverallQual'],\n",
    "    'GrLivArea': X_test['GrLivArea'],\n",
    "    'TotalBsmtSF': X_test['TotalBsmtSF'],\n",
    "    '1stFlrSF': X_test['1stFlrSF'],\n",
    "    'GarageArea': X_test['GarageArea'],\n",
    "    'YearBuilt': X_test['YearBuilt'],\n",
    "    'YearRemodAdd': X_test['YearRemodAdd'],\n",
    "    'BsmtFinSF1': X_test['BsmtFinSF1'],\n",
    "    'BsmtUnfSF': X_test['BsmtUnfSF'],\n",
    "    'Fireplaces': X_test['Fireplaces']\n",
    "})\n",
    "# Join residuals_df with X_neighborhood based on index\n",
    "residuals_merged = residuals_df.join(X_neighborhood, how='left')"
   ]
  },
  {
   "cell_type": "code",
   "execution_count": 6,
   "id": "8714e7bd",
   "metadata": {},
   "outputs": [],
   "source": [
    "# Filter undervalued properties\n",
    "undervalued_properties = residuals_merged[residuals_merged['Actual Sale Price'] < residuals_merged['Predicted Sale Price']].sort_values(by='Residuals', ascending=False)"
   ]
  },
  {
   "cell_type": "markdown",
   "id": "9d9494b2",
   "metadata": {},
   "source": [
    "Residuals represent the differences between the predicted sale prices and the actual sale prices. To calculate residuals, subtract the predicted sale prices (y_pred_test) from the actual sale prices (y_test).\n",
    "\n",
    "To identify undervalued properties, sort the properties in the test set based on their residuals in ascending order."
   ]
  },
  {
   "cell_type": "code",
   "execution_count": 7,
   "id": "4f5f6eda",
   "metadata": {},
   "outputs": [
    {
     "name": "stdout",
     "output_type": "stream",
     "text": [
      "\n",
      "Top 10 Undervalued Properties:\n",
      "\n",
      "Neighborhood: Veenker\n",
      "Actual Sale Price: 150000\n",
      "Predicted Sale Price: 380131.75\n",
      "Residual: 230131.75\n",
      "\n",
      "Neighborhood: NAmes\n",
      "Actual Sale Price: 84900\n",
      "Predicted Sale Price: 222556.9375\n",
      "Residual: 137656.9375\n",
      "\n",
      "Neighborhood: NAmes\n",
      "Actual Sale Price: 167000\n",
      "Predicted Sale Price: 271021.34375\n",
      "Residual: 104021.34375\n",
      "\n",
      "Neighborhood: MeadowV\n",
      "Actual Sale Price: 151400\n",
      "Predicted Sale Price: 247910.0625\n",
      "Residual: 96510.0625\n",
      "\n",
      "Neighborhood: OldTown\n",
      "Actual Sale Price: 122000\n",
      "Predicted Sale Price: 216369.015625\n",
      "Residual: 94369.015625\n",
      "\n",
      "Neighborhood: NWAmes\n",
      "Actual Sale Price: 278000\n",
      "Predicted Sale Price: 362180.96875\n",
      "Residual: 84180.96875\n",
      "\n",
      "Neighborhood: NridgHt\n",
      "Actual Sale Price: 386250\n",
      "Predicted Sale Price: 470245.03125\n",
      "Residual: 83995.03125\n",
      "\n",
      "Neighborhood: CollgCr\n",
      "Actual Sale Price: 239000\n",
      "Predicted Sale Price: 312992.75\n",
      "Residual: 73992.75\n",
      "\n",
      "Neighborhood: CollgCr\n",
      "Actual Sale Price: 185000\n",
      "Predicted Sale Price: 255453.078125\n",
      "Residual: 70453.078125\n",
      "\n",
      "Neighborhood: SWISU\n",
      "Actual Sale Price: 197000\n",
      "Predicted Sale Price: 265626.6875\n",
      "Residual: 68626.6875\n",
      "\n"
     ]
    }
   ],
   "source": [
    "# Print the top 10 undervalued properties with neighborhoods\n",
    "print()\n",
    "print(\"Top 10 Undervalued Properties:\")\n",
    "print()\n",
    "top_undervalued_properties = undervalued_properties.head(10)\n",
    "for index, row in top_undervalued_properties.iterrows():\n",
    "    print(\"Neighborhood:\", row['Neighborhood'])\n",
    "    print(\"Actual Sale Price:\", row['Actual Sale Price'])\n",
    "    print(\"Predicted Sale Price:\", row['Predicted Sale Price'])\n",
    "    print(\"Residual:\", row['Residuals'])\n",
    "    print()"
   ]
  }
 ],
 "metadata": {
  "kernelspec": {
   "display_name": "Python 3",
   "language": "python",
   "name": "python3"
  },
  "language_info": {
   "codemirror_mode": {
    "name": "ipython",
    "version": 3
   },
   "file_extension": ".py",
   "mimetype": "text/x-python",
   "name": "python",
   "nbconvert_exporter": "python",
   "pygments_lexer": "ipython3",
   "version": "3.8.3"
  }
 },
 "nbformat": 4,
 "nbformat_minor": 5
}
